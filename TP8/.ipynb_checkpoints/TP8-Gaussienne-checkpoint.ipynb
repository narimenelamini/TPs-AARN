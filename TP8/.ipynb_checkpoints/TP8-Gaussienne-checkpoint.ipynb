{
 "cells": [
  {
   "cell_type": "markdown",
   "metadata": {
    "id": "RGMmQ4R1zsXK"
   },
   "source": [
    "# TP 8 Distribution Gaussienne\n",
    "Dans ce TP, nous aimerions explorer le classifieur base sur les distributions gaussiennnes pour une classification binaire.\n",
    "\n"
   ]
  },
  {
   "cell_type": "markdown",
   "metadata": {
    "id": "bDpxocMFzsXP"
   },
   "source": [
    "# Importation des librairies necessaires au travail"
   ]
  },
  {
   "cell_type": "code",
   "execution_count": 74,
   "metadata": {
    "executionInfo": {
     "elapsed": 332,
     "status": "ok",
     "timestamp": 1652250831351,
     "user": {
      "displayName": "insaf setitra",
      "userId": "17481774957281678772"
     },
     "user_tz": -120
    },
    "id": "tY3mqEITzsXT"
   },
   "outputs": [],
   "source": [
    "import numpy as np\n",
    "import matplotlib.pyplot as plt\n",
    "from numpy import random\n",
    "from sklearn.metrics import f1_score"
   ]
  },
  {
   "cell_type": "markdown",
   "metadata": {
    "id": "KCMUTWfpzsXY"
   },
   "source": [
    "# Lecture des fichiers de données\n",
    "Pour ce TP, nous allons lire les données à partir d'un fichier csv."
   ]
  },
  {
   "cell_type": "code",
   "execution_count": 2,
   "metadata": {
    "colab": {
     "base_uri": "https://localhost:8080/",
     "height": 355
    },
    "executionInfo": {
     "elapsed": 454,
     "status": "error",
     "timestamp": 1652250834154,
     "user": {
      "displayName": "insaf setitra",
      "userId": "17481774957281678772"
     },
     "user_tz": -120
    },
    "id": "M0DPNJGfzsXa",
    "outputId": "056127be-cccb-4c4c-cecb-9efecbf173a0"
   },
   "outputs": [
    {
     "data": {
      "text/plain": [
       "(307, 2)"
      ]
     },
     "execution_count": 2,
     "metadata": {},
     "output_type": "execute_result"
    }
   ],
   "source": [
    "# données\n",
    "X = np.genfromtxt('X.csv', delimiter=',', dtype=float)\n",
    "X.shape"
   ]
  },
  {
   "cell_type": "markdown",
   "metadata": {
    "id": "BkwayUKXzsXd"
   },
   "source": [
    "Dans ces données (data), les 2 premières colonnes representent les caracteristiques de l'ensemble d'entrainement.\n",
    "\n",
    "Chaque ligne represente un exemple de notre ensemble de données. \n"
   ]
  },
  {
   "cell_type": "markdown",
   "metadata": {
    "id": "Fng1mGHIzsXl"
   },
   "source": [
    "# Entrainement \n",
    "dans cette partie nous allons calculer les parametres de la disribution gaussienne de chaque caracteristique."
   ]
  },
  {
   "cell_type": "code",
   "execution_count": 95,
   "metadata": {
    "id": "zP6MGRvtzsXm",
    "outputId": "b35c228a-cd9e-4bab-e346-87e2a349aba0"
   },
   "outputs": [
    {
     "data": {
      "text/plain": [
       "<matplotlib.collections.PathCollection at 0x7fd963caa280>"
      ]
     },
     "execution_count": 95,
     "metadata": {},
     "output_type": "execute_result"
    },
    {
     "data": {
      "image/png": "[encoded data removed]",
      "text/plain": [
       "<Figure size 432x288 with 1 Axes>"
      ]
     },
     "metadata": {
      "needs_background": "light"
     },
     "output_type": "display_data"
    }
   ],
   "source": [
    "plt.scatter(X0[:,0],X0[:,1], marker ='x')\n",
    "plt.scatter(X1[:,0],X1[:,1], marker ='o')"
   ]
  },
  {
   "cell_type": "markdown",
   "metadata": {
    "id": "P34bOn1RzsXp"
   },
   "source": [
    "Mettons un lien avec ce que nous avons appris en regression linéaire"
   ]
  },
  {
   "cell_type": "code",
   "execution_count": 18,
   "metadata": {},
   "outputs": [],
   "source": [
    "m = np.mean(X, axis=0)\n",
    "v = np.var(X, axis=0)"
   ]
  },
  {
   "cell_type": "code",
   "execution_count": 68,
   "metadata": {},
   "outputs": [],
   "source": [
    "def calculProba(X,m,v):\n",
    "    return (1 / (np.sqrt(2 * v * np.pi))) * np.exp(- np.power(X - m, 2) / (2 * v))"
   ]
  },
  {
   "cell_type": "code",
   "execution_count": 22,
   "metadata": {
    "scrolled": true
   },
   "outputs": [
    {
     "data": {
      "text/plain": [
       "<matplotlib.collections.PathCollection at 0x7fd969c936d0>"
      ]
     },
     "execution_count": 22,
     "metadata": {},
     "output_type": "execute_result"
    },
    {
     "data": {
      "image/png": "[encoded data removed]",
      "text/plain": [
       "<Figure size 432x288 with 1 Axes>"
      ]
     },
     "metadata": {
      "needs_background": "light"
     },
     "output_type": "display_data"
    }
   ],
   "source": [
    "plt.scatter(X[:,0],prob[:,0])"
   ]
  },
  {
   "cell_type": "code",
   "execution_count": 23,
   "metadata": {
    "scrolled": false
   },
   "outputs": [
    {
     "data": {
      "text/plain": [
       "<matplotlib.collections.PathCollection at 0x7fd969bdfd00>"
      ]
     },
     "execution_count": 23,
     "metadata": {},
     "output_type": "execute_result"
    },
    {
     "data": {
      "image/png": "[encoded data removed]",
      "text/plain": [
       "<Figure size 432x288 with 1 Axes>"
      ]
     },
     "metadata": {
      "needs_background": "light"
     },
     "output_type": "display_data"
    }
   ],
   "source": [
    "plt.scatter(X[:,1],prob[:,1])"
   ]
  },
  {
   "cell_type": "code",
   "execution_count": 100,
   "metadata": {},
   "outputs": [],
   "source": [
    "f1_scores = []\n",
    "proba = calculProba(X, m, v)\n",
    "yproba = proba[:,0]*proba[:,1]\n",
    "for epsilon in np.arange(0, 1, 0.0001):\n",
    "    y_pred = np.ones(yproba.shape)\n",
    "    y_pred[yproba >= epsilon] = 0\n",
    "    f1_scores.append((epsilon, f1_score(y, y_pred)))"
   ]
  },
  {
   "cell_type": "markdown",
   "metadata": {
    "id": "c47rKy1pzsYG"
   },
   "source": [
    "# Travail à faire\n",
    "- 1) Nous aimerions bien choisir le epsilon, ceci est fait en analysant le score F1 obtenu precedenmment\n",
    "- 2) nous aimerions appliquer une gaussienne multivariée à nos caracterisqtues; et comparer les deux résultats (multiplication des gaussiennes univariées, et gaussienne multivariée)\n",
    "- 3) Nous aimerions visualiser en 3D la multiplication des gaussiennes univariées et la gaussienne multivariée pour comparaison. \n",
    "- 4) **** En Bonus - PAS obligatoire **** : nous aimerions utiliser la loi de Bayes afin de classifier nos exemples. Pour cela, voir le cours.\n"
   ]
  },
  {
   "cell_type": "markdown",
   "metadata": {
    "id": "1q-8odoLzsYH"
   },
   "source": [
    "# Consignes"
   ]
  },
  {
   "cell_type": "markdown",
   "metadata": {
    "id": "pwLYNnstzsYI"
   },
   "source": [
    "Le travail est à remettre par groupe de 4 au maximum [1..4].\n",
    "\n",
    "Le délai est le Lundi 23 Mai 2022 à 22h\n"
   ]
  },
  {
   "cell_type": "code",
   "execution_count": null,
   "metadata": {
    "id": "Sfv9XEQ1zsYI"
   },
   "outputs": [],
   "source": [
    "# bonne chance"
   ]
  }
 ],
 "metadata": {
  "colab": {
   "name": "TP DG.ipynb",
   "provenance": [
    {
     "file_id": "104d6umzYUZE1v5l5Lmbaj6kS5h49L0Rs",
     "timestamp": 1652250571890
    }
   ]
  },
  "kernelspec": {
   "display_name": "Python 3",
   "language": "python",
   "name": "python3"
  },
  "language_info": {
   "codemirror_mode": {
    "name": "ipython",
    "version": 3
   },
   "file_extension": ".py",
   "mimetype": "text/x-python",
   "name": "python",
   "nbconvert_exporter": "python",
   "pygments_lexer": "ipython3",
   "version": "3.8.8"
  }
 },
 "nbformat": 4,
 "nbformat_minor": 1
}
