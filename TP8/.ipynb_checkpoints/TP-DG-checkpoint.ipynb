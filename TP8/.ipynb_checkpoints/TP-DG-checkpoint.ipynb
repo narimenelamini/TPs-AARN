{
 "cells": [
  {
   "cell_type": "markdown",
   "metadata": {
    "id": "RGMmQ4R1zsXK"
   },
   "source": [
    "## LAMINI Narimene   - GUETTAF Sarah         G4\n",
    "\n"
   ]
  },
  {
   "cell_type": "markdown",
   "metadata": {},
   "source": [
    "# TP 8 Distribution Gaussienne\n",
    "Dans ce TP, nous aimerions explorer le classifieur base sur les distributions gaussiennnes pour une classification binaire."
   ]
  },
  {
   "cell_type": "markdown",
   "metadata": {
    "id": "bDpxocMFzsXP"
   },
   "source": [
    "# Importation des librairies necessaires au travail"
   ]
  },
  {
   "cell_type": "code",
   "execution_count": 25,
   "metadata": {
    "executionInfo": {
     "elapsed": 332,
     "status": "ok",
     "timestamp": 1652250831351,
     "user": {
      "displayName": "insaf setitra",
      "userId": "17481774957281678772"
     },
     "user_tz": -120
    },
    "id": "tY3mqEITzsXT"
   },
   "outputs": [],
   "source": [
    "import numpy as np\n",
    "import matplotlib.pyplot as plt\n",
    "from numpy import random\n"
   ]
  },
  {
   "cell_type": "markdown",
   "metadata": {
    "id": "KCMUTWfpzsXY"
   },
   "source": [
    "# Lecture des fichiers de données\n",
    "Pour ce TP, nous allons lire les données à partir d'un fichier csv."
   ]
  },
  {
   "cell_type": "code",
   "execution_count": 26,
   "metadata": {
    "colab": {
     "base_uri": "https://localhost:8080/",
     "height": 355
    },
    "executionInfo": {
     "elapsed": 454,
     "status": "error",
     "timestamp": 1652250834154,
     "user": {
      "displayName": "insaf setitra",
      "userId": "17481774957281678772"
     },
     "user_tz": -120
    },
    "id": "M0DPNJGfzsXa",
    "outputId": "056127be-cccb-4c4c-cecb-9efecbf173a0"
   },
   "outputs": [
    {
     "data": {
      "text/plain": [
       "(307, 1)"
      ]
     },
     "execution_count": 26,
     "metadata": {},
     "output_type": "execute_result"
    }
   ],
   "source": [
    "# données\n",
    "X = np.genfromtxt('Xval.csv', delimiter=',', dtype=float)\n",
    "y = np.genfromtxt('yval.csv', delimiter=',', dtype=float)\n",
    "\n",
    "y=y.reshape(307,1)\n",
    "y.shape"
   ]
  },
  {
   "cell_type": "markdown",
   "metadata": {
    "id": "BkwayUKXzsXd"
   },
   "source": [
    "Dans ces données (data), les 2 premières colonnes representent les caracteristiques de l'ensemble d'entrainement.\n",
    "\n",
    "Chaque ligne represente un exemple de notre ensemble de données. \n"
   ]
  },
  {
   "cell_type": "markdown",
   "metadata": {
    "id": "Fng1mGHIzsXl"
   },
   "source": [
    "# Entrainement \n",
    "dans cette partie nous allons calculer les parametres de la disribution gaussienne de chaque caracteristique."
   ]
  },
  {
   "cell_type": "code",
   "execution_count": 27,
   "metadata": {
    "id": "zP6MGRvtzsXm",
    "outputId": "b35c228a-cd9e-4bab-e346-87e2a349aba0"
   },
   "outputs": [
    {
     "data": {
      "text/plain": [
       "<matplotlib.collections.PathCollection at 0x15e7b8d6f40>"
      ]
     },
     "execution_count": 27,
     "metadata": {},
     "output_type": "execute_result"
    },
    {
     "data": {
      "image/png": "[encoded data removed]",
      "text/plain": [
       "<Figure size 432x288 with 1 Axes>"
      ]
     },
     "metadata": {
      "needs_background": "light"
     },
     "output_type": "display_data"
    }
   ],
   "source": [
    "plt.scatter(X[:,0],X[:,1], marker ='x')"
   ]
  },
  {
   "cell_type": "markdown",
   "metadata": {
    "id": "P34bOn1RzsXp"
   },
   "source": [
    "Mettons un lien avec ce que nous avons appris en regression linéaire"
   ]
  },
  {
   "cell_type": "code",
   "execution_count": 28,
   "metadata": {},
   "outputs": [
    {
     "data": {
      "text/plain": [
       "(array([14.01929524, 15.03773094]), array([2.51786677, 1.62603229]))"
      ]
     },
     "execution_count": 28,
     "metadata": {},
     "output_type": "execute_result"
    }
   ],
   "source": [
    "def moy(X):\n",
    "    return np.mean(X,axis=0)\n",
    "moy(X)\n",
    "def var(X):\n",
    "    return np.var(X,axis=0)\n",
    "var(X)\n",
    "\n",
    "def calculParam(X):\n",
    "    moy=np.mean(X,axis=0)\n",
    "    var=np.var(X,axis=0)\n",
    "    \n",
    "    return moy,var\n",
    "\n",
    "calculParam(X)"
   ]
  },
  {
   "cell_type": "code",
   "execution_count": 29,
   "metadata": {},
   "outputs": [
    {
     "data": {
      "text/plain": [
       "1.0"
      ]
     },
     "execution_count": 29,
     "metadata": {},
     "output_type": "execute_result"
    }
   ],
   "source": [
    " #calcul de la moyenne\n",
    "moy=moy(X)\n",
    "v=var(X) \n",
    "np.pi*v\n",
    "np.exp(0)"
   ]
  },
  {
   "cell_type": "code",
   "execution_count": 31,
   "metadata": {},
   "outputs": [],
   "source": [
    "p=1/np.sqrt(2*np.pi*v)\n",
    "e=np.exp(-((X-moy)*(X-moy)/2*v))\n",
    "prob=e*p"
   ]
  },
  {
   "cell_type": "code",
   "execution_count": 32,
   "metadata": {},
   "outputs": [],
   "source": [
    "def calculProba(X,moy,var):\n",
    "    return 1/np.sqrt(2*np.pi*var)*np.exp(-((X-moy)*(X-moy))/(2*var)) "
   ]
  },
  {
   "cell_type": "code",
   "execution_count": 33,
   "metadata": {},
   "outputs": [],
   "source": [
    "#covariance\n",
    "def covariance():\n",
    "    pass"
   ]
  },
  {
   "cell_type": "code",
   "execution_count": 34,
   "metadata": {},
   "outputs": [
    {
     "data": {
      "text/plain": [
       "<matplotlib.collections.PathCollection at 0x15e7d283310>"
      ]
     },
     "execution_count": 34,
     "metadata": {},
     "output_type": "execute_result"
    },
    {
     "data": {
      "image/png": "[encoded data removed]",
      "text/plain": [
       "<Figure size 432x288 with 1 Axes>"
      ]
     },
     "metadata": {
      "needs_background": "light"
     },
     "output_type": "display_data"
    }
   ],
   "source": [
    "plt.scatter(X[:,0],prob[:,0])\n"
   ]
  },
  {
   "cell_type": "code",
   "execution_count": 35,
   "metadata": {},
   "outputs": [
    {
     "data": {
      "text/plain": [
       "<matplotlib.collections.PathCollection at 0x15e7d2d4ac0>"
      ]
     },
     "execution_count": 35,
     "metadata": {},
     "output_type": "execute_result"
    },
    {
     "data": {
      "image/png": "[encoded data removed]",
      "text/plain": [
       "<Figure size 432x288 with 1 Axes>"
      ]
     },
     "metadata": {
      "needs_background": "light"
     },
     "output_type": "display_data"
    }
   ],
   "source": [
    "plt.scatter(X[:,1],prob[:,1])"
   ]
  },
  {
   "cell_type": "code",
   "execution_count": 36,
   "metadata": {},
   "outputs": [
    {
     "data": {
      "text/plain": [
       "array([[4.85426102e-003, 3.09409939e-001],\n",
       "       [2.09766379e-001, 2.91866497e-001],\n",
       "       [1.01958935e-001, 5.84750210e-002],\n",
       "       [1.98276067e-001, 1.27939872e-001],\n",
       "       [1.70530658e-001, 2.34092842e-001],\n",
       "       [5.94397011e-002, 1.16504870e-001],\n",
       "       [3.07711913e-002, 3.08100434e-001],\n",
       "       [2.46802552e-001, 2.75713837e-001],\n",
       "       [9.84348562e-004, 2.02437649e-001],\n",
       "       [1.03485517e-001, 3.08137369e-001],\n",
       "       [2.08760546e-001, 2.60276246e-001],\n",
       "       [5.54266704e-003, 3.10556615e-001],\n",
       "       [4.06933706e-002, 1.73219672e-001],\n",
       "       [2.50561683e-003, 3.79554148e-002],\n",
       "       [1.14891096e-001, 1.03442723e-001],\n",
       "       [2.60707643e-002, 1.49678397e-001],\n",
       "       [3.09124994e-002, 1.88534393e-001],\n",
       "       [2.40230020e-002, 3.05398577e-001],\n",
       "       [2.38912897e-001, 2.00750605e-001],\n",
       "       [2.45226810e-002, 1.70452038e-001],\n",
       "       [2.48710917e-001, 2.93768044e-001],\n",
       "       [4.16138870e-002, 7.25517748e-002],\n",
       "       [1.68283091e-001, 3.12435019e-001],\n",
       "       [2.28472371e-001, 1.83697007e-001],\n",
       "       [1.81607470e-001, 2.43928625e-001],\n",
       "       [2.23580519e-001, 2.88272838e-001],\n",
       "       [4.60305271e-002, 1.30789808e-001],\n",
       "       [1.71624130e-001, 1.82618655e-001],\n",
       "       [1.12591291e-002, 2.14044375e-001],\n",
       "       [8.67631000e-002, 3.12162569e-001],\n",
       "       [1.60832010e-001, 3.04477811e-001],\n",
       "       [2.48792135e-001, 1.26299957e-001],\n",
       "       [1.28704603e-001, 2.77464541e-001],\n",
       "       [2.22992048e-001, 3.12675020e-001],\n",
       "       [6.69323072e-002, 3.12837328e-001],\n",
       "       [1.11805800e-001, 3.12785524e-001],\n",
       "       [2.26109353e-001, 1.38367357e-001],\n",
       "       [1.96953876e-002, 4.19853396e-002],\n",
       "       [2.51373092e-001, 8.37362587e-002],\n",
       "       [2.50866541e-001, 2.91866497e-001],\n",
       "       [3.50862248e-002, 2.46980943e-001],\n",
       "       [3.18683605e-003, 2.70263920e-001],\n",
       "       [6.23009543e-002, 2.28485885e-001],\n",
       "       [2.51044452e-001, 2.68384032e-001],\n",
       "       [2.45052629e-001, 3.00489356e-001],\n",
       "       [1.43429111e-001, 2.28023632e-001],\n",
       "       [2.48289556e-001, 2.75867632e-002],\n",
       "       [2.24364904e-001, 2.84275732e-001],\n",
       "       [1.33213686e-001, 3.12849655e-001],\n",
       "       [1.90986728e-001, 1.34334035e-001],\n",
       "       [4.73341242e-002, 1.44150601e-001],\n",
       "       [2.30646715e-001, 3.12370662e-001],\n",
       "       [1.39916177e-001, 3.12852081e-001],\n",
       "       [2.14010872e-001, 2.23947563e-001],\n",
       "       [2.23337847e-001, 5.90230675e-002],\n",
       "       [1.58417738e-001, 1.85035991e-001],\n",
       "       [2.44421974e-001, 1.54695995e-001],\n",
       "       [6.31983501e-002, 2.65119229e-001],\n",
       "       [8.32432995e-003, 3.06670507e-001],\n",
       "       [4.97079515e-002, 3.12752235e-001],\n",
       "       [2.49702876e-001, 2.95401620e-001],\n",
       "       [1.95547289e-002, 3.12855407e-001],\n",
       "       [2.04656349e-001, 2.88352808e-001],\n",
       "       [2.54089015e-002, 1.50606375e-001],\n",
       "       [1.39337191e-001, 1.73811124e-001],\n",
       "       [3.42105871e-002, 1.07809059e-001],\n",
       "       [1.24235171e-001, 2.48822232e-001],\n",
       "       [2.47069323e-001, 2.96409077e-001],\n",
       "       [3.25086062e-002, 5.40897899e-002],\n",
       "       [1.47533806e-001, 2.88569487e-001],\n",
       "       [2.51373092e-001, 7.78946628e-002],\n",
       "       [2.33075170e-001, 2.93839510e-001],\n",
       "       [1.75889811e-001, 3.84009473e-002],\n",
       "       [2.45855135e-001, 2.98806704e-001],\n",
       "       [2.02471539e-001, 2.10357940e-001],\n",
       "       [1.51744670e-001, 3.12667633e-001],\n",
       "       [2.39864251e-001, 6.19592575e-002],\n",
       "       [4.26998289e-002, 2.04474204e-001],\n",
       "       [8.22142304e-003, 2.10021049e-002],\n",
       "       [1.76361391e-001, 1.21568827e-001],\n",
       "       [8.77703073e-002, 4.73130770e-002],\n",
       "       [2.38984304e-001, 1.87566590e-001],\n",
       "       [2.37293418e-001, 1.70212527e-001],\n",
       "       [4.54397366e-002, 3.11078521e-001],\n",
       "       [2.43413827e-001, 2.26401504e-001],\n",
       "       [1.14435111e-001, 2.40512308e-001],\n",
       "       [3.85673956e-002, 1.40855015e-001],\n",
       "       [2.20597551e-001, 1.97854496e-001],\n",
       "       [1.36078832e-001, 2.64338777e-001],\n",
       "       [2.49883270e-001, 3.10079180e-001],\n",
       "       [2.32055365e-001, 1.67820836e-001],\n",
       "       [1.36992487e-002, 2.83242635e-001],\n",
       "       [1.44251503e-001, 2.90820153e-001],\n",
       "       [1.72337587e-001, 8.10823886e-002],\n",
       "       [1.91211333e-001, 1.10434446e-001],\n",
       "       [5.57672675e-002, 8.81397270e-002],\n",
       "       [7.62882224e-002, 3.00597959e-001],\n",
       "       [1.29553866e-001, 2.93768044e-001],\n",
       "       [9.49882919e-002, 3.09918538e-001],\n",
       "       [2.18895130e-001, 1.92052061e-001],\n",
       "       [9.39396379e-002, 2.77903465e-001],\n",
       "       [2.44911846e-001, 2.07485109e-001],\n",
       "       [1.24607622e-001, 2.75099917e-001],\n",
       "       [2.05487238e-001, 2.72112726e-001],\n",
       "       [1.88729010e-001, 2.01103088e-001],\n",
       "       [9.85079849e-002, 1.40053034e-001],\n",
       "       [1.28371594e-001, 4.23580403e-002],\n",
       "       [2.50436211e-001, 3.12370662e-001],\n",
       "       [3.68198048e-002, 8.85945013e-002],\n",
       "       [2.04239080e-001, 2.99265193e-001],\n",
       "       [2.39104804e-001, 2.43827244e-001],\n",
       "       [1.14384265e-002, 3.05568725e-001],\n",
       "       [6.68516679e-004, 2.19381145e-001],\n",
       "       [5.12871364e-002, 3.00101505e-001],\n",
       "       [1.62519509e-001, 2.44803954e-002],\n",
       "       [6.36897316e-003, 3.10079180e-001],\n",
       "       [1.76125665e-001, 2.34092842e-001],\n",
       "       [2.10763791e-001, 2.39844219e-001],\n",
       "       [4.50408736e-002, 3.10534341e-001],\n",
       "       [2.46952104e-001, 2.79948376e-001],\n",
       "       [7.18785835e-002, 3.10630022e-001],\n",
       "       [5.07089523e-002, 1.02074019e-001],\n",
       "       [2.47214567e-001, 3.10459403e-001],\n",
       "       [2.26930067e-001, 1.96404900e-001],\n",
       "       [2.33075170e-001, 2.30559087e-001],\n",
       "       [8.95986225e-002, 2.56910575e-001],\n",
       "       [5.01352666e-002, 1.39785208e-002],\n",
       "       [5.60146992e-003, 4.55694241e-003],\n",
       "       [1.40539042e-001, 2.89962483e-001],\n",
       "       [1.75653830e-001, 2.84750067e-001],\n",
       "       [2.31698752e-001, 3.07314667e-001],\n",
       "       [1.39817749e-001, 1.79832382e-001],\n",
       "       [4.90665346e-003, 2.25704338e-001],\n",
       "       [1.28607830e-001, 2.42947510e-001],\n",
       "       [1.70292181e-001, 3.12797420e-001],\n",
       "       [1.25311013e-001, 1.64374035e-001],\n",
       "       [1.81226029e-004, 6.14683896e-002],\n",
       "       [1.76125665e-001, 1.00804735e-001],\n",
       "       [6.43388061e-004, 7.64130787e-002],\n",
       "       [2.20058669e-001, 1.91437981e-001],\n",
       "       [1.04801904e-001, 1.44837672e-001],\n",
       "       [1.26956551e-001, 2.59764370e-001],\n",
       "       [1.85304873e-001, 2.65507729e-001],\n",
       "       [1.59866747e-001, 2.80026076e-001],\n",
       "       [1.46907725e-001, 2.87674842e-001],\n",
       "       [2.44459654e-001, 2.58954201e-001],\n",
       "       [1.90669779e-001, 1.24039755e-001],\n",
       "       [1.53339360e-001, 2.08793864e-001],\n",
       "       [1.41359424e-001, 5.53324079e-002],\n",
       "       [2.33218873e-001, 2.74825873e-001],\n",
       "       [6.05814398e-003, 3.04338107e-001],\n",
       "       [2.43216197e-001, 3.00050458e-001],\n",
       "       [2.23752168e-001, 9.93669471e-002],\n",
       "       [2.34502103e-002, 1.61289297e-001],\n",
       "       [2.48035359e-001, 2.15469678e-001],\n",
       "       [1.88181928e-001, 5.74622240e-002],\n",
       "       [2.50604012e-001, 3.01183186e-001],\n",
       "       [2.38373713e-001, 2.66384942e-001],\n",
       "       [1.55131989e-001, 2.67726143e-001],\n",
       "       [1.93576356e-001, 3.00489356e-001],\n",
       "       [2.01710603e-001, 2.69428926e-001],\n",
       "       [2.23681928e-001, 3.93117274e-002],\n",
       "       [1.09510332e-002, 6.15337256e-002],\n",
       "       [1.68761470e-001, 1.08504951e-001],\n",
       "       [2.02048133e-001, 1.68537671e-001],\n",
       "       [1.16127688e-001, 2.51594868e-001],\n",
       "       [2.74181388e-002, 2.90961689e-001],\n",
       "       [2.49333298e-001, 2.73387959e-001],\n",
       "       [1.06880621e-001, 1.45787409e-003],\n",
       "       [1.36078832e-001, 9.96477161e-002],\n",
       "       [6.87777655e-002, 2.24880651e-001],\n",
       "       [7.27099910e-002, 1.10528334e-001],\n",
       "       [5.68491931e-002, 1.56210950e-001],\n",
       "       [8.57620523e-002, 1.89390496e-001],\n",
       "       [1.29177494e-001, 1.58307728e-002],\n",
       "       [2.21840531e-001, 2.56292511e-001],\n",
       "       [1.18425821e-001, 2.14415272e-002],\n",
       "       [1.75986411e-001, 1.60579428e-001],\n",
       "       [1.01830619e-001, 3.02070949e-001],\n",
       "       [1.66464579e-001, 2.79102449e-001],\n",
       "       [2.48825798e-001, 3.12202779e-001],\n",
       "       [2.42975064e-001, 2.73549659e-002],\n",
       "       [2.91947357e-003, 1.07207935e-001],\n",
       "       [2.49944468e-001, 1.64959716e-001],\n",
       "       [1.39916177e-001, 3.11934161e-001],\n",
       "       [2.48993518e-001, 1.52467726e-001],\n",
       "       [9.87220698e-002, 2.71745491e-001],\n",
       "       [2.16485278e-001, 1.43130872e-001],\n",
       "       [1.83914918e-002, 1.46109027e-001],\n",
       "       [1.58999786e-001, 3.11934161e-001],\n",
       "       [5.95396533e-003, 1.66278875e-001],\n",
       "       [2.50679282e-001, 2.73485335e-001],\n",
       "       [6.17098568e-002, 8.73130439e-005],\n",
       "       [2.48099821e-001, 2.09751107e-001],\n",
       "       [1.41118741e-001, 2.20558316e-001],\n",
       "       [2.22715835e-001, 2.86766182e-001],\n",
       "       [2.88578139e-002, 3.10079180e-001],\n",
       "       [2.03400946e-001, 3.04062441e-001],\n",
       "       [1.55615756e-001, 1.83455291e-001],\n",
       "       [4.92831616e-002, 5.99907818e-002],\n",
       "       [1.45842451e-001, 1.45066950e-001],\n",
       "       [4.77471636e-002, 5.35153993e-002],\n",
       "       [1.28371594e-001, 2.79779895e-001],\n",
       "       [3.79302695e-002, 8.74258889e-002],\n",
       "       [2.08962379e-001, 3.07821476e-001],\n",
       "       [6.93784855e-002, 1.17874057e-001],\n",
       "       [2.77863950e-002, 1.39374382e-001],\n",
       "       [1.46182904e-001, 3.09171092e-001],\n",
       "       [9.23961909e-002, 3.03549790e-001],\n",
       "       [2.18344886e-001, 2.72843362e-001],\n",
       "       [1.64685336e-001, 3.03165571e-001],\n",
       "       [2.92977446e-002, 1.82005440e-001],\n",
       "       [1.44975507e-001, 2.53378782e-001],\n",
       "       [8.46324729e-003, 1.90358376e-001],\n",
       "       [1.99268567e-001, 2.36930473e-001],\n",
       "       [6.55588847e-002, 5.68523501e-002],\n",
       "       [4.97257492e-003, 7.30272998e-002],\n",
       "       [2.34628290e-001, 2.74289116e-001],\n",
       "       [1.39417285e-002, 2.00620839e-001],\n",
       "       [2.94338532e-002, 1.86840810e-001],\n",
       "       [2.41876121e-001, 2.52650987e-001],\n",
       "       [2.51407577e-001, 3.12752235e-001],\n",
       "       [3.31825688e-002, 2.05195398e-001],\n",
       "       [1.78945555e-001, 3.08986802e-001],\n",
       "       [1.53489179e-002, 5.19923382e-002],\n",
       "       [1.11713325e-001, 2.79689088e-001],\n",
       "       [1.43527861e-001, 3.12301748e-001],\n",
       "       [8.75683757e-002, 3.05226539e-001],\n",
       "       [1.00315028e-001, 1.14840297e-001],\n",
       "       [1.81279707e-001, 3.08205634e-001],\n",
       "       [2.47099258e-001, 9.72686737e-002],\n",
       "       [7.67734166e-002, 2.90885577e-001],\n",
       "       [1.97188747e-001, 2.43049256e-001],\n",
       "       [2.48163675e-001, 9.38904250e-002],\n",
       "       [6.26996593e-002, 1.82135437e-001],\n",
       "       [2.05079069e-006, 2.55783624e-001],\n",
       "       [2.38582347e-002, 3.14255266e-002],\n",
       "       [2.45052629e-001, 2.80194038e-001],\n",
       "       [2.49812731e-001, 7.76401629e-002],\n",
       "       [1.45118053e-001, 8.51303033e-002],\n",
       "       [1.94241634e-001, 3.09437012e-001],\n",
       "       [1.46424482e-001, 1.22350309e-002],\n",
       "       [1.69910487e-003, 1.95438052e-001],\n",
       "       [1.42705920e-001, 3.11759678e-001],\n",
       "       [1.11580032e-001, 3.12762289e-001],\n",
       "       [8.66808796e-002, 2.12813418e-002],\n",
       "       [1.06076309e-002, 1.17193269e-006],\n",
       "       [7.36970689e-002, 3.20314187e-002],\n",
       "       [7.36220683e-002, 3.45465430e-002],\n",
       "       [1.83366984e-001, 2.52861509e-001],\n",
       "       [1.05462779e-001, 1.75142702e-001],\n",
       "       [1.65886401e-001, 2.16545588e-001],\n",
       "       [4.91956812e-003, 1.04123325e-001],\n",
       "       [2.48437974e-001, 2.19381145e-001],\n",
       "       [8.25206496e-002, 3.34505348e-002],\n",
       "       [1.81744686e-001, 2.70736144e-001],\n",
       "       [4.50669633e-004, 2.89818134e-001],\n",
       "       [4.57618969e-002, 1.31230659e-001],\n",
       "       [7.08005447e-002, 3.12475391e-001],\n",
       "       [5.01352666e-002, 1.77420880e-001],\n",
       "       [2.42255802e-001, 2.80284274e-001],\n",
       "       [3.62058114e-003, 1.96097077e-002],\n",
       "       [2.35584650e-001, 1.64374035e-001],\n",
       "       [2.19152418e-001, 1.57386013e-001],\n",
       "       [2.40892649e-001, 3.02320757e-001],\n",
       "       [1.30264514e-001, 2.52440230e-001],\n",
       "       [5.84836884e-002, 2.69703180e-001],\n",
       "       [2.12732689e-001, 1.25549996e-001],\n",
       "       [1.10383291e-002, 3.12839325e-001],\n",
       "       [2.32495389e-001, 2.85688570e-001],\n",
       "       [5.65507724e-004, 2.23138442e-001],\n",
       "       [1.91883832e-001, 9.61349239e-002],\n",
       "       [1.37417576e-001, 3.08699650e-001],\n",
       "       [2.31100493e-001, 2.52537606e-001],\n",
       "       [1.14300610e-001, 7.25517748e-002],\n",
       "       [1.01613480e-001, 1.23546950e-002],\n",
       "       [4.09403717e-002, 2.19018496e-001],\n",
       "       [8.29923426e-002, 2.41178729e-001],\n",
       "       [2.17866894e-001, 1.86970988e-001],\n",
       "       [3.54644534e-002, 3.05865085e-001],\n",
       "       [1.01958935e-001, 2.63356806e-001],\n",
       "       [5.08530765e-002, 8.63617442e-002],\n",
       "       [7.36970689e-002, 2.18673594e-001],\n",
       "       [3.53944955e-004, 1.49339706e-001],\n",
       "       [2.23923385e-001, 6.49948894e-002],\n",
       "       [2.33218873e-001, 3.84549472e-002],\n",
       "       [6.36309976e-002, 2.79689088e-001],\n",
       "       [6.54670665e-003, 1.46339001e-001],\n",
       "       [2.38000916e-001, 2.58139844e-001],\n",
       "       [1.44635300e-001, 3.03262320e-001],\n",
       "       [2.39104804e-001, 2.69052659e-001],\n",
       "       [2.12652752e-001, 2.80361645e-001],\n",
       "       [1.29317195e-001, 1.45204328e-002],\n",
       "       [2.32495389e-001, 4.76113997e-002],\n",
       "       [2.51402224e-001, 1.72259367e-001],\n",
       "       [2.94338532e-002, 2.30099374e-001],\n",
       "       [2.38373713e-001, 8.84979654e-002],\n",
       "       [2.28788645e-001, 1.49446690e-001],\n",
       "       [8.40924292e-002, 2.16308667e-001],\n",
       "       [1.32164046e-001, 1.90712104e-001],\n",
       "       [1.62764443e-016, 5.99715438e-008],\n",
       "       [1.42536095e-016, 2.53378090e-002],\n",
       "       [4.08425540e-104, 4.36382150e-034],\n",
       "       [1.22006469e-116, 1.95059068e-016],\n",
       "       [4.42280604e-015, 1.99079235e-004],\n",
       "       [2.14203439e-001, 1.15847366e-025],\n",
       "       [2.40525583e-016, 3.39951171e-002]])"
      ]
     },
     "execution_count": 36,
     "metadata": {},
     "output_type": "execute_result"
    }
   ],
   "source": [
    "prob"
   ]
  },
  {
   "cell_type": "code",
   "execution_count": 37,
   "metadata": {},
   "outputs": [],
   "source": [
    "yprob=prob[:,0]*prob[:,1]\n",
    "yprob.shape\n",
    "yprob=yprob.reshape(307,1)\n"
   ]
  },
  {
   "cell_type": "code",
   "execution_count": 38,
   "metadata": {},
   "outputs": [
    {
     "data": {
      "text/plain": [
       "array([[1.50195661e-003],\n",
       "       [6.12237783e-002],\n",
       "       [5.96205085e-003],\n",
       "       [2.53674146e-002],\n",
       "       [3.99200063e-002],\n",
       "       [6.92501465e-003],\n",
       "       [9.48061739e-003],\n",
       "       [6.80468785e-002],\n",
       "       [1.99269209e-004],\n",
       "       [3.18877551e-002],\n",
       "       [5.43354113e-002],\n",
       "       [1.72131191e-003],\n",
       "       [7.04889230e-003],\n",
       "       [9.51017262e-005],\n",
       "       [1.18846478e-002],\n",
       "       [3.90223022e-003],\n",
       "       [5.82806931e-003],\n",
       "       [7.33659064e-003],\n",
       "       [4.79619087e-002],\n",
       "       [4.17994096e-003],\n",
       "       [7.30633195e-002],\n",
       "       [3.01916136e-003],\n",
       "       [5.25775309e-002],\n",
       "       [4.19696909e-002],\n",
       "       [4.42992606e-002],\n",
       "       [6.44521909e-002],\n",
       "       [6.02032381e-003],\n",
       "       [3.13417678e-002],\n",
       "       [2.40995326e-003],\n",
       "       [2.70841922e-002],\n",
       "       [4.89697783e-002],\n",
       "       [3.14224359e-002],\n",
       "       [3.57109637e-002],\n",
       "       [6.97240431e-002],\n",
       "       [2.09389241e-002],\n",
       "       [3.49712358e-002],\n",
       "       [3.12861536e-002],\n",
       "       [8.26917538e-004],\n",
       "       [2.10490423e-002],\n",
       "       [7.32195385e-002],\n",
       "       [8.66562888e-003],\n",
       "       [8.61286805e-004],\n",
       "       [1.42348887e-002],\n",
       "       [6.73763223e-002],\n",
       "       [7.36357068e-002],\n",
       "       [3.27052269e-002],\n",
       "       [6.84950518e-003],\n",
       "       [6.37814973e-002],\n",
       "       [4.16758558e-002],\n",
       "       [2.56560179e-002],\n",
       "       [6.82324243e-003],\n",
       "       [7.20472672e-002],\n",
       "       [4.37730670e-002],\n",
       "       [4.79272134e-002],\n",
       "       [1.31820848e-002],\n",
       "       [2.93129832e-002],\n",
       "       [3.78111005e-002],\n",
       "       [1.67550978e-002],\n",
       "       [2.55282648e-003],\n",
       "       [1.55462729e-002],\n",
       "       [7.37626342e-002],\n",
       "       [6.11780265e-003],\n",
       "       [5.90132329e-002],\n",
       "       [3.82674256e-003],\n",
       "       [2.42183538e-002],\n",
       "       [3.68821120e-003],\n",
       "       [3.09124725e-002],\n",
       "       [7.32335900e-002],\n",
       "       [1.75838368e-003],\n",
       "       [4.25737548e-002],\n",
       "       [1.95806223e-002],\n",
       "       [6.84866938e-002],\n",
       "       [6.75433535e-003],\n",
       "       [7.34631626e-002],\n",
       "       [4.25914959e-002],\n",
       "       [4.74456467e-002],\n",
       "       [1.48618109e-002],\n",
       "       [8.73101355e-003],\n",
       "       [1.72667189e-004],\n",
       "       [2.14400474e-002],\n",
       "       [4.15268330e-003],\n",
       "       [4.48254711e-002],\n",
       "       [4.03903124e-002],\n",
       "       [1.41353261e-002],\n",
       "       [5.51092566e-002],\n",
       "       [2.75230526e-002],\n",
       "       [5.43241108e-003],\n",
       "       [4.36462172e-002],\n",
       "       [3.59709118e-002],\n",
       "       [7.74835995e-002],\n",
       "       [3.89437254e-002],\n",
       "       [3.88021128e-003],\n",
       "       [4.19512442e-002],\n",
       "       [1.39735432e-002],\n",
       "       [2.11163175e-002],\n",
       "       [4.91531174e-003],\n",
       "       [2.29320839e-002],\n",
       "       [3.80587859e-002],\n",
       "       [2.94386325e-002],\n",
       "       [4.20392608e-002],\n",
       "       [2.61061509e-002],\n",
       "       [5.08155612e-002],\n",
       "       [3.42795464e-002],\n",
       "       [5.59156925e-002],\n",
       "       [3.79539867e-002],\n",
       "       [1.37963421e-002],\n",
       "       [5.43756916e-003],\n",
       "       [7.82289249e-002],\n",
       "       [3.26203224e-003],\n",
       "       [6.11216476e-002],\n",
       "       [5.83002655e-002],\n",
       "       [3.49522541e-003],\n",
       "       [1.46659955e-004],\n",
       "       [1.53913468e-002],\n",
       "       [3.97854184e-003],\n",
       "       [1.97488598e-003],\n",
       "       [4.12297574e-002],\n",
       "       [5.05504768e-002],\n",
       "       [1.39867380e-002],\n",
       "       [6.91338404e-002],\n",
       "       [2.23276460e-002],\n",
       "       [5.17606657e-003],\n",
       "       [7.67500868e-002],\n",
       "       [4.45701772e-002],\n",
       "       [5.37375983e-002],\n",
       "       [2.30188336e-002],\n",
       "       [7.00816866e-004],\n",
       "       [2.55255759e-005],\n",
       "       [4.07510496e-002],\n",
       "       [5.00174400e-002],\n",
       "       [7.12044249e-002],\n",
       "       [2.51437589e-002],\n",
       "       [1.10745297e-003],\n",
       "       [3.12449521e-002],\n",
       "       [5.32669548e-002],\n",
       "       [2.05978769e-002],\n",
       "       [1.11396721e-005],\n",
       "       [1.77543010e-002],\n",
       "       [4.91632626e-005],\n",
       "       [4.21275871e-002],\n",
       "       [1.51792638e-002],\n",
       "       [3.29787886e-002],\n",
       "       [4.91998758e-002],\n",
       "       [4.47668578e-002],\n",
       "       [4.22616565e-002],\n",
       "       [6.33038544e-002],\n",
       "       [2.36506327e-002],\n",
       "       [3.20163176e-002],\n",
       "       [7.82175732e-003],\n",
       "       [6.40945804e-002],\n",
       "       [1.84372407e-003],\n",
       "       [7.29771314e-002],\n",
       "       [2.22335699e-002],\n",
       "       [3.78226792e-003],\n",
       "       [5.34440989e-002],\n",
       "       [1.08133521e-002],\n",
       "       [7.54777148e-002],\n",
       "       [6.34991678e-002],\n",
       "       [4.15328890e-002],\n",
       "       [5.81676344e-002],\n",
       "       [5.43466713e-002],\n",
       "       [8.79332299e-003],\n",
       "       [6.73857875e-004],\n",
       "       [1.83114549e-002],\n",
       "       [3.40527216e-002],\n",
       "       [2.92171304e-002],\n",
       "       [7.97762797e-003],\n",
       "       [6.81647215e-002],\n",
       "       [1.55818488e-004],\n",
       "       [1.35599448e-002],\n",
       "       [1.54667887e-002],\n",
       "       [8.03651415e-003],\n",
       "       [8.88046645e-003],\n",
       "       [1.62425176e-002],\n",
       "       [2.04497955e-003],\n",
       "       [5.68560666e-002],\n",
       "       [2.53923046e-003],\n",
       "       [2.82597972e-002],\n",
       "       [3.07600718e-002],\n",
       "       [4.64606717e-002],\n",
       "       [7.76841056e-002],\n",
       "       [6.64657460e-003],\n",
       "       [3.12990732e-004],\n",
       "       [4.12307684e-002],\n",
       "       [4.36446352e-002],\n",
       "       [3.79634755e-002],\n",
       "       [2.68272773e-002],\n",
       "       [3.09857267e-002],\n",
       "       [2.68716297e-003],\n",
       "       [4.95974648e-002],\n",
       "       [9.90018657e-004],\n",
       "       [6.85571073e-002],\n",
       "       [5.38807544e-006],\n",
       "       [5.20392121e-002],\n",
       "       [3.11249120e-002],\n",
       "       [6.38673698e-002],\n",
       "       [8.94820728e-003],\n",
       "       [6.18465882e-002],\n",
       "       [2.85485337e-002],\n",
       "       [2.95653540e-003],\n",
       "       [2.11569197e-002],\n",
       "       [2.55520852e-003],\n",
       "       [3.59157912e-002],\n",
       "       [3.31608753e-003],\n",
       "       [6.43231078e-002],\n",
       "       [8.17792357e-003],\n",
       "       [3.87271163e-003],\n",
       "       [4.51955282e-002],\n",
       "       [2.80468443e-002],\n",
       "       [5.95739529e-002],\n",
       "       [4.99269239e-002],\n",
       "       [5.33234891e-003],\n",
       "       [3.67337175e-002],\n",
       "       [1.61105001e-003],\n",
       "       [4.72127958e-002],\n",
       "       [3.72717667e-003],\n",
       "       [3.63133720e-004],\n",
       "       [6.43559862e-002],\n",
       "       [2.79700128e-003],\n",
       "       [5.49944496e-003],\n",
       "       [6.11102407e-002],\n",
       "       [7.86282816e-002],\n",
       "       [6.80891043e-003],\n",
       "       [5.52918149e-002],\n",
       "       [7.98026130e-004],\n",
       "       [3.12449979e-002],\n",
       "       [4.48240020e-002],\n",
       "       [2.67281922e-002],\n",
       "       [1.15202076e-002],\n",
       "       [5.58714270e-002],\n",
       "       [2.40350171e-002],\n",
       "       [2.23322796e-002],\n",
       "       [4.79265783e-002],\n",
       "       [2.33001929e-002],\n",
       "       [1.14198298e-002],\n",
       "       [5.24558674e-007],\n",
       "       [7.49757588e-004],\n",
       "       [6.86622857e-002],\n",
       "       [1.93955011e-002],\n",
       "       [1.23539439e-002],\n",
       "       [6.01055508e-002],\n",
       "       [1.79150805e-003],\n",
       "       [3.32069745e-004],\n",
       "       [4.44899518e-002],\n",
       "       [3.48980262e-002],\n",
       "       [1.84468542e-003],\n",
       "       [1.24314294e-008],\n",
       "       [2.36062167e-003],\n",
       "       [2.54338795e-003],\n",
       "       [4.63664523e-002],\n",
       "       [1.84710360e-002],\n",
       "       [3.59219683e-002],\n",
       "       [5.12241790e-004],\n",
       "       [5.45026073e-002],\n",
       "       [2.76035986e-003],\n",
       "       [4.92048555e-002],\n",
       "       [1.30612232e-004],\n",
       "       [6.00536388e-003],\n",
       "       [2.21234279e-002],\n",
       "       [8.89504313e-003],\n",
       "       [6.79004916e-002],\n",
       "       [7.09985380e-005],\n",
       "       [3.87239995e-002],\n",
       "       [3.44915253e-002],\n",
       "       [7.28268479e-002],\n",
       "       [3.28840039e-002],\n",
       "       [1.57732368e-002],\n",
       "       [2.67085882e-002],\n",
       "       [3.45322341e-003],\n",
       "       [6.64212752e-002],\n",
       "       [1.26186512e-004],\n",
       "       [1.84467376e-002],\n",
       "       [4.24207577e-002],\n",
       "       [5.83615653e-002],\n",
       "       [8.29271213e-003],\n",
       "       [1.25540355e-003],\n",
       "       [8.96669865e-003],\n",
       "       [2.00159877e-002],\n",
       "       [4.07347883e-002],\n",
       "       [1.08473380e-002],\n",
       "       [2.68515794e-002],\n",
       "       [4.39176038e-003],\n",
       "       [1.61156029e-002],\n",
       "       [5.28580356e-005],\n",
       "       [1.45538757e-002],\n",
       "       [8.96841945e-003],\n",
       "       [1.77968957e-002],\n",
       "       [9.58038508e-004],\n",
       "       [6.14375194e-002],\n",
       "       [4.38624366e-002],\n",
       "       [6.43317833e-002],\n",
       "       [5.96196753e-002],\n",
       "       [1.87774164e-003],\n",
       "       [1.10694309e-002],\n",
       "       [4.33063879e-002],\n",
       "       [6.77271121e-003],\n",
       "       [2.10955886e-002],\n",
       "       [3.41917057e-002],\n",
       "       [1.81899212e-002],\n",
       "       [2.52052834e-002],\n",
       "       [9.76123492e-024],\n",
       "       [3.61155237e-018],\n",
       "       [1.78229615e-137],\n",
       "       [2.37984681e-132],\n",
       "       [8.80488843e-019],\n",
       "       [2.48149042e-026],\n",
       "       [8.17669534e-018]])"
      ]
     },
     "execution_count": 38,
     "metadata": {},
     "output_type": "execute_result"
    }
   ],
   "source": [
    "np.max(yprob)\n",
    "yprob"
   ]
  },
  {
   "cell_type": "code",
   "execution_count": 40,
   "metadata": {},
   "outputs": [],
   "source": [
    "def selectEpsilon(pval,yval):\n",
    "    F1 = 0\n",
    "    bestF1 = 0\n",
    "    bestEpsilon = 0\n",
    "    \n",
    "    stepsize = (np.max(pval) - np.min(pval))/1000\n",
    "        \n",
    "    epsVec = np.arange(np.min(pval), np.max(pval), stepsize)\n",
    "    noe = len(epsVec)\n",
    "    \n",
    "    for eps in range(noe):\n",
    "        epsilon = epsVec[eps]\n",
    "        pred = (pval < epsilon)\n",
    "        prec, rec = 0,0\n",
    "        tp,fp,fn = 0,0,0\n",
    "        \n",
    "        try:\n",
    "            for i in range(np.size(pval,0)):\n",
    "                if pred[i] == 1 and yval[i] == 1:\n",
    "                    tp+=1\n",
    "                elif pred[i] == 1 and yval[i] == 0:\n",
    "                    fp+=1\n",
    "                elif pred[i] == 0 and yval[i] == 1:\n",
    "                    fn+=1\n",
    "            prec = tp/(tp + fp)\n",
    "            rec = tp/(tp + fn)\n",
    "            F1 = 2*prec*rec/(prec + rec)\n",
    "            if F1 > bestF1:\n",
    "                bestF1 = F1\n",
    "                bestEpsilon = epsilon\n",
    "        except ZeroDivisionError:\n",
    "            print('Warning dividing by zero!!')          \n",
    "       \n",
    "    return bestF1, bestEpsilon\n"
   ]
  },
  {
   "cell_type": "code",
   "execution_count": 43,
   "metadata": {},
   "outputs": [
    {
     "name": "stdout",
     "output_type": "stream",
     "text": [
      "Warning dividing by zero!!\n"
     ]
    },
    {
     "data": {
      "text/plain": [
       "(0.5833333333333334, 7.862828158501523e-05)"
      ]
     },
     "execution_count": 43,
     "metadata": {},
     "output_type": "execute_result"
    }
   ],
   "source": [
    "selectEpsilon(y,yprob)"
   ]
  },
  {
   "cell_type": "markdown",
   "metadata": {
    "id": "c47rKy1pzsYG"
   },
   "source": [
    "# Travail à faire\n",
    "\n",
    "- 1) Nous aimerions bien choisir le epsilon, ceci est fait en analysant le score F1 obtenu precedenmment\n",
    "- 2) nous aimerions appliquer une gaussienne multivariée à nos caracterisqtues; et comparer les deux résultats (multiplication des gaussiennes univariées, et gaussienne multivariée)\n",
    "- 3) Nous aimerions visualiser en 3D la multiplication des gaussiennes univariées et la gaussienne multivariée pour comparaison. \n",
    "- 4) **** En Bonus - PAS obligatoire **** : nous aimerions utiliser la loi de Bayes afin de classifier nos exemples. Pour cela, voir le cours.\n",
    "\n",
    "\n",
    "\n"
   ]
  },
  {
   "cell_type": "markdown",
   "metadata": {
    "id": "1q-8odoLzsYH"
   },
   "source": [
    "# Consignes"
   ]
  },
  {
   "cell_type": "markdown",
   "metadata": {
    "id": "pwLYNnstzsYI"
   },
   "source": [
    "Le travail est à remettre par groupe de 4 au maximum [1..4].\n",
    "\n",
    "Le délai est le Lundi 23 Mai 2022 à 22h\n"
   ]
  },
  {
   "cell_type": "markdown",
   "metadata": {
    "id": "Sfv9XEQ1zsYI"
   },
   "source": [
    "# bonne chance"
   ]
  }
 ],
 "metadata": {
  "colab": {
   "name": "TP DG.ipynb",
   "provenance": [
    {
     "file_id": "104d6umzYUZE1v5l5Lmbaj6kS5h49L0Rs",
     "timestamp": 1652250571890
    }
   ]
  },
  "interpreter": {
   "hash": "05fcbe96538f0da0b4a2e8540d7a42342b3b60911b04a6ddb7074b377a94d800"
  },
  "kernelspec": {
   "display_name": "Python 3",
   "language": "python",
   "name": "python3"
  },
  "language_info": {
   "codemirror_mode": {
    "name": "ipython",
    "version": 3
   },
   "file_extension": ".py",
   "mimetype": "text/x-python",
   "name": "python",
   "nbconvert_exporter": "python",
   "pygments_lexer": "ipython3",
   "version": "3.8.8"
  }
 },
 "nbformat": 4,
 "nbformat_minor": 1
}
