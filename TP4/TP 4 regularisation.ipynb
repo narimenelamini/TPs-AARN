{
 "cells": [
  {
   "cell_type": "markdown",
   "metadata": {},
   "source": [
    "## LAMINI Narimene - Guettaf Sarah  - G4"
   ]
  },
  {
   "cell_type": "markdown",
   "metadata": {},
   "source": [
    "# TP 4 Regression logistique avec régularisation\n",
    "Dans ce TP, nous aimerions faire une classification binaire en utilisant la régression.\n",
    "\n",
    "Pour ce faire, nous étudierons un ensemble de données avec la variable  (y) representant la commercialisation d'un profuit et les caractéristiques (X) representant les résultat des tests de qualité test 1 et test 2 du produit.\n",
    "\n",
    "La prédiction se fera avec l'agorithme de descente du gradient avec régularisation."
   ]
  },
  {
   "cell_type": "markdown",
   "metadata": {},
   "source": [
    "# Importation des librairies necessaires au travail"
   ]
  },
  {
   "cell_type": "code",
   "execution_count": 1,
   "metadata": {},
   "outputs": [],
   "source": [
    "import numpy as np\n",
    "import pandas as pd\n",
    "import matplotlib.pyplot as plt\n",
    "from sklearn.linear_model import LogisticRegression\n",
    "from sklearn.metrics import classification_report\n",
    "import scipy.optimize as opt    "
   ]
  },
  {
   "cell_type": "markdown",
   "metadata": {},
   "source": [
    "# Lecture des fichiers de données\n",
    "Pour ce TP, nous allons lire les données à partir d'un fichier csv."
   ]
  },
  {
   "cell_type": "code",
   "execution_count": 4,
   "metadata": {},
   "outputs": [
    {
     "data": {
      "text/plain": [
       "(118, 3)"
      ]
     },
     "execution_count": 4,
     "metadata": {},
     "output_type": "execute_result"
    }
   ],
   "source": [
    "# données\n",
    "data = np.genfromtxt('data.csv', delimiter=',', dtype=float)\n",
    "data.shape"
   ]
  },
  {
   "cell_type": "markdown",
   "metadata": {},
   "source": [
    "Dans ces données (data), la première colonne represente la première test, la deuxieme colonne le deuxième test et la troisième colonne represente la commercialisation (1 oui 0 non).\n",
    "\n",
    "Chaque ligne represente un exemple de notre ensemble de données. \n",
    "\n",
    "Mettons ces données dans leus vecteurs correspondants."
   ]
  },
  {
   "cell_type": "code",
   "execution_count": 5,
   "metadata": {},
   "outputs": [],
   "source": [
    "# rajoutons l'ordonnée à l'origine theta 0\n",
    "intercept=np.ones((data.shape[0],1))\n",
    "X=np.column_stack((intercept,data[:,0:2]))\n",
    "y = data[:, 2];\n",
    "# forcer y à avoir une seule colonne\n",
    "y = y.reshape( y.shape[0], 1)"
   ]
  },
  {
   "cell_type": "code",
   "execution_count": 6,
   "metadata": {},
   "outputs": [
    {
     "name": "stdout",
     "output_type": "stream",
     "text": [
      "X (118, 3)  y  (118, 1)\n"
     ]
    }
   ],
   "source": [
    "print('X', X.shape ,' y ', y.shape)"
   ]
  },
  {
   "cell_type": "markdown",
   "metadata": {},
   "source": [
    "# Transformation de données\n",
    "Dans cette partie, nous aimerions transformer nos données afin d'avoir une fonction polynomiale de degrée 6.\n",
    "\n",
    "La fonction sera:\n",
    "\n",
    "$x_0=1$\n",
    "\n",
    "$x_1=x_1$\n",
    "\n",
    "$x_2=x_2$\n",
    "\n",
    "$x_3={x_1}^2$\n",
    "\n",
    "$x_4={x_1}x_2$\n",
    "\n",
    "$x_5={x_2}^2$\n",
    "\n",
    "$x_6={x_1}^3$\n",
    "\n",
    "$x_7={x_1}^2 x_2$\n",
    "\n",
    "$x_8= x_1 {x_2}^2$\n",
    "\n",
    "$x_9= {x_2}^3$\n",
    "\n",
    "...\n"
   ]
  },
  {
   "cell_type": "markdown",
   "metadata": {},
   "source": [
    "Pour un polynme de degrée 6 à 2 variables nous aurons 28 caracteristiques\n",
    "\n",
    "**Question**: comment avons nous trouvé ce chiffre?\n",
    "\n",
    "**Astuce**: référez vous aux probabilités\n",
    "\n",
    "**Réponse** : (6! / (6-2)! ) - 2 = 28"
   ]
  },
  {
   "cell_type": "code",
   "execution_count": 238,
   "metadata": {},
   "outputs": [],
   "source": [
    "def mapping(X):\n",
    "    \n",
    "    cols = 28\n",
    "    degree=7\n",
    "    outX= np.ones((X.shape[0],cols))\n",
    "    X1=X[:,1]\n",
    "    X2=X[:,2]\n",
    "    k=0\n",
    "    for i in range(degree):\n",
    "        for j in range(i+1):\n",
    "            outX[:, k] = np.power(X1,i-j)*(np.power(X2,j));\n",
    "            k=k+1\n",
    "    return outX    \n"
   ]
  },
  {
   "cell_type": "code",
   "execution_count": 41,
   "metadata": {},
   "outputs": [
    {
     "data": {
      "text/plain": [
       "(118, 28)"
      ]
     },
     "execution_count": 41,
     "metadata": {},
     "output_type": "execute_result"
    }
   ],
   "source": [
    "X2=mapping(X)\n",
    "X2.shape"
   ]
  },
  {
   "cell_type": "markdown",
   "metadata": {},
   "source": [
    "# Descente du Gradient : Préparation des fonctions"
   ]
  },
  {
   "cell_type": "markdown",
   "metadata": {},
   "source": [
    "0- Fonction mpgistique (Sigmoid)"
   ]
  },
  {
   "cell_type": "code",
   "execution_count": 214,
   "metadata": {},
   "outputs": [],
   "source": [
    "def Sigmoid(z):\n",
    "    # pour une valeur donnée, cette fonction calculera sa sigmoid\n",
    "    return 1/(1+np.exp(-z));\n",
    " "
   ]
  },
  {
   "cell_type": "code",
   "execution_count": 215,
   "metadata": {},
   "outputs": [
    {
     "data": {
      "text/plain": [
       "4.5397868702434395e-05"
      ]
     },
     "execution_count": 215,
     "metadata": {},
     "output_type": "execute_result"
    }
   ],
   "source": [
    "k=sigmoid(-10)\n",
    "k"
   ]
  },
  {
   "cell_type": "markdown",
   "metadata": {},
   "source": [
    "1- Calcul du coût\n",
    "\n",
    "Cette fonction servira à calculer le cout $J(\\theta_0,\\theta_1)$\n",
    "\n",
    "Elle prendra l'ensemble de données d'apprentissage en entrée ainsi que les paramètres définis initialement"
   ]
  },
  {
   "cell_type": "code",
   "execution_count": 216,
   "metadata": {},
   "outputs": [],
   "source": [
    "def computeCostReg(X, y, theta,lambdaa):\n",
    "    z = np.dot(X,theta)\n",
    "    first = y.T.dot(np.log(Sigmoid(z)))\n",
    "    second = ((1-y).T).dot(np.log(1-Sigmoid(z)))\n",
    "    reg = (lambdaa / 2 * len(X)) * np.sum(np.power(theta[:,1:theta.T.shape[1]], 2))\n",
    "    cost = -((first + second))/len(y) + reg\n",
    "    \n",
    " \n",
    "    return  cost\n"
   ]
  },
  {
   "cell_type": "markdown",
   "metadata": {},
   "source": [
    "2- Fonction de la descente du gradient\n",
    "\n",
    "Cette fonction mettra à jour les paramètres $\\theta_0,\\theta_1$ jusqu'à convergence: atteinte du nombre d'itérations max, ou dérivée assez petite."
   ]
  },
  {
   "cell_type": "code",
   "execution_count": 224,
   "metadata": {},
   "outputs": [],
   "source": [
    "def gradientDescent(X, y, theta, alpha,iterations,lambdaa):\n",
    "   \n",
    "    length = len(y)\n",
    "    cost = np.zeros((iterations,1))\n",
    "    for i in range(iterations):\n",
    "        z = np.dot(X,theta)\n",
    "        theta[0,0] = theta[0,0] - (alpha / len(y))*np.sum(np.subtract(Sigmoid(z), y)*X[:,0])\n",
    "        theta[1:,:] = theta[1:,:] - (1-(alpha*lambdaa) / len(y)) *np.array(np.sum(np.subtract(Sigmoid(z), y)*X[:,1:], axis=0))[np.newaxis].T\n",
    "        cost[i] = computeCostReg(X,y,theta,lambdaa)   \n",
    "    return theta, cost\n",
    "\n"
   ]
  },
  {
   "cell_type": "markdown",
   "metadata": {},
   "source": [
    "# Descente du Gradient : Appel des fonctions"
   ]
  },
  {
   "cell_type": "markdown",
   "metadata": {},
   "source": [
    "Initialisation de $\\theta_0$ et $\\theta_1$"
   ]
  },
  {
   "cell_type": "code",
   "execution_count": 225,
   "metadata": {},
   "outputs": [
    {
     "data": {
      "text/plain": [
       "28"
      ]
     },
     "execution_count": 225,
     "metadata": {},
     "output_type": "execute_result"
    }
   ],
   "source": [
    "n=X2.shape[1]\n",
    "lambdaa = 1;\n",
    "theta = np.zeros((n, 1))\n",
    "theta.T.shape[1]"
   ]
  },
  {
   "cell_type": "markdown",
   "metadata": {},
   "source": [
    "Calculer le cout initial"
   ]
  },
  {
   "cell_type": "code",
   "execution_count": 226,
   "metadata": {},
   "outputs": [
    {
     "name": "stdout",
     "output_type": "stream",
     "text": [
      "[[0.69314718]]\n"
     ]
    }
   ],
   "source": [
    "initialCost=computeCostReg(X2, y, theta, lambdaa)\n",
    "print(initialCost)"
   ]
  },
  {
   "cell_type": "markdown",
   "metadata": {},
   "source": [
    "Normalisation des données"
   ]
  },
  {
   "cell_type": "code",
   "execution_count": 227,
   "metadata": {},
   "outputs": [],
   "source": [
    "y_norm=np.ones(y.shape)\n",
    "std = np.std(y)\n",
    "mu = np.mean(y)\n",
    "y_norm = np.true_divide((y- mu),std)\n",
    "\n",
    "X2_norm=np.ones(X2.shape)\n",
    "for i in range(1,X2.shape[1]):\n",
    "    std = np.std(X2[:,i])\n",
    "    mu = np.mean(X2[:,i])\n",
    "    X2_norm[:,i] = np.true_divide((X2[:,i]- mu),std)"
   ]
  },
  {
   "cell_type": "markdown",
   "metadata": {},
   "source": [
    "Appel des la fonction de calcul du gradient"
   ]
  },
  {
   "cell_type": "code",
   "execution_count": 233,
   "metadata": {},
   "outputs": [
    {
     "data": {
      "text/plain": [
       "array([[ 2.81046010e+00],\n",
       "       [-1.78551413e+00],\n",
       "       [-1.28519450e-02],\n",
       "       [-2.45522283e+01],\n",
       "       [-1.60454383e+01],\n",
       "       [ 1.79887440e+01],\n",
       "       [-8.19161937e+00],\n",
       "       [ 3.40294577e+01],\n",
       "       [ 4.00376451e+01],\n",
       "       [ 3.68442419e+01],\n",
       "       [ 1.24478722e+02],\n",
       "       [ 3.08011233e+01],\n",
       "       [ 2.14926356e+01],\n",
       "       [-2.01514656e-01],\n",
       "       [-5.40026483e+01],\n",
       "       [ 3.84336757e+01],\n",
       "       [-1.39691053e+01],\n",
       "       [-3.68698938e+00],\n",
       "       [-7.59214192e+01],\n",
       "       [-2.02636242e+01],\n",
       "       [-2.76217704e+00],\n",
       "       [-1.99772574e+02],\n",
       "       [-1.05891920e+02],\n",
       "       [-4.11999938e+01],\n",
       "       [ 1.54792229e+02],\n",
       "       [-1.75854744e+02],\n",
       "       [-1.28399736e+02],\n",
       "       [-1.35652172e+01]])"
      ]
     },
     "execution_count": 233,
     "metadata": {},
     "output_type": "execute_result"
    }
   ],
   "source": [
    "# paramètres\n",
    "iterations = 1500;\n",
    "alpha = 0.01;\n",
    "\n",
    "# paramètre de regression\n",
    "lambdaa = 1;\n",
    "\n",
    "# Appel\n",
    "new_theta, new_cost = gradientDescent(X2, y, theta, alpha,iterations,lambdaa);\n",
    "new_theta\n",
    "\n"
   ]
  },
  {
   "cell_type": "markdown",
   "metadata": {},
   "source": [
    "Traçage de la fonction du coût"
   ]
  },
  {
   "cell_type": "markdown",
   "metadata": {},
   "source": [
    "Notons que $\\theta^T  x$ est équivalent à $X  \\theta $ où $X= \\begin{pmatrix}\n",
    "..(x^{(1)})^T..\\\\\n",
    "..(x^{(2)})^T..\\\\\n",
    ".\\\\\n",
    ".\\\\\n",
    ".\\\\\n",
    "..(x^{(m)})^T..\n",
    "\\end{pmatrix} $"
   ]
  },
  {
   "cell_type": "markdown",
   "metadata": {},
   "source": [
    "# Dessin de la limite de decision (Descision Boundary)\n",
    "Dans cette partie, nous aimerions dessiner la ligne separatrice d nos données"
   ]
  },
  {
   "cell_type": "code",
   "execution_count": 234,
   "metadata": {},
   "outputs": [],
   "source": [
    "def mapFeatureForPlotting(X1, X2):\n",
    "        degree = 6\n",
    "        out = np.ones(1)\n",
    "        for i in range(1, degree+1):\n",
    "            for j in range(i+1):\n",
    "                out = np.hstack((out, np.multiply(np.power(X1, i-j),np.power(X2, j))))\n",
    "        return out"
   ]
  },
  {
   "cell_type": "markdown",
   "metadata": {},
   "source": [
    "# Classification (Prédiction)\n",
    "Ici il serait interessant de calculer la prédiction en utilisant un seuil\n",
    "i.e. si h>seuil alors classe =1 sinon classe = 0"
   ]
  },
  {
   "cell_type": "code",
   "execution_count": 235,
   "metadata": {},
   "outputs": [],
   "source": [
    "def predict(theta, X):\n",
    "    z = np.dot(X,theta)\n",
    "    probability = sigmoid(z)\n",
    "    y_pred = [1 if x >= 0.5 else 0 for x in probability]\n",
    "    return y_pred\n",
    "\n"
   ]
  },
  {
   "cell_type": "code",
   "execution_count": 240,
   "metadata": {},
   "outputs": [],
   "source": [
    "def drawCircle(theta):\n",
    "    u = np.linspace(-1, 1.5, 50)\n",
    "    v = np.linspace(-1, 1.5, 50)\n",
    "    z = np.zeros((len(u),len(v)))\n",
    "    for i in range(len(u)):\n",
    "        for j in range(len(v)):\n",
    "             z[i,j] = np.dot(mapFeatureForPlotting(u[i], v[j]), theta)\n",
    "    plt.contour(u,v,z,0)"
   ]
  },
  {
   "cell_type": "markdown",
   "metadata": {},
   "source": [
    "# Affichage \n",
    "Graphe representant les acceptations selon les caracteristiques"
   ]
  },
  {
   "cell_type": "code",
   "execution_count": 242,
   "metadata": {},
   "outputs": [
    {
     "data": {
      "image/png": "[encoded data removed]",
      "text/plain": [
       "<Figure size 432x288 with 1 Axes>"
      ]
     },
     "metadata": {
      "needs_background": "light"
     },
     "output_type": "display_data"
    }
   ],
   "source": [
    "plt.scatter(X2[np.where(y==1),1],X2[np.where(y==1),2], label=\"y=1\",marker ='o')\n",
    "plt.scatter(X2[np.where(y==0),1],X2[np.where(y==0),2], label=\"y=0\",marker ='x')\n",
    "plt.xlabel('x 1')\n",
    "plt.ylabel('x 2')\n",
    "drawCircle(new_theta)"
   ]
  },
  {
   "cell_type": "markdown",
   "metadata": {},
   "source": [
    "Traçage du coût en fonction de theta0 et theta1"
   ]
  },
  {
   "cell_type": "code",
   "execution_count": 201,
   "metadata": {},
   "outputs": [
    {
     "data": {
      "image/png": "[encoded data removed]",
      "text/plain": [
       "<Figure size 432x288 with 1 Axes>"
      ]
     },
     "metadata": {
      "needs_background": "light"
     },
     "output_type": "display_data"
    }
   ],
   "source": [
    "plt.plot(range(iterations), cost, label= 'Le cout après normalisation', color = \"green\")\n",
    "plt.title('Le cout après normalisation')\n",
    "plt.show()"
   ]
  },
  {
   "cell_type": "markdown",
   "metadata": {},
   "source": [
    "# Qualité du classifieur\n",
    "\n",
    "Prédire des valeurs de y\n",
    "\n",
    "Ici il serait interessant de calculer la précision de notre classifieur\n",
    "\n",
    "Essayons de calculer ça avec \n",
    "\n",
    "moyenne(y==y-pred) * 100\n",
    "\n",
    "Ceci donnera un pourcentage de precision"
   ]
  },
  {
   "cell_type": "code",
   "execution_count": 237,
   "metadata": {},
   "outputs": [
    {
     "name": "stderr",
     "output_type": "stream",
     "text": [
      "<ipython-input-42-3a23a140e4ab>:3: RuntimeWarning: overflow encountered in exp\n",
      "  return 1/(1+np.exp(-z));\n"
     ]
    },
    {
     "data": {
      "text/plain": [
       "49.612180407928754"
      ]
     },
     "execution_count": 237,
     "metadata": {},
     "output_type": "execute_result"
    }
   ],
   "source": [
    "# calcul de precision = nombre de valeurs bien prédites (ici sur toute la base X)\n",
    "y_pred=predict(new_theta, X2_norm)\n",
    "prcision = np.mean(y==y_pred)*100\n",
    "prcision\n",
    "\n"
   ]
  },
  {
   "cell_type": "markdown",
   "metadata": {},
   "source": [
    "# Vérification de l'implementation\n",
    "Comparer vos algorithmes à ceux de scikitlearn"
   ]
  },
  {
   "cell_type": "code",
   "execution_count": 152,
   "metadata": {},
   "outputs": [
    {
     "name": "stdout",
     "output_type": "stream",
     "text": [
      "Result 01 :\n",
      "\n",
      "              precision    recall  f1-score   support\n",
      "\n",
      "         0.0       0.86      0.80      0.83        60\n",
      "         1.0       0.81      0.86      0.83        58\n",
      "\n",
      "    accuracy                           0.83       118\n",
      "   macro avg       0.83      0.83      0.83       118\n",
      "weighted avg       0.83      0.83      0.83       118\n",
      "\n",
      "======================================================================================\n",
      "Result 02 :\n",
      "\n",
      "              precision    recall  f1-score   support\n",
      "\n",
      "         0.0       0.82      0.55      0.66        60\n",
      "         1.0       0.65      0.88      0.75        58\n",
      "\n",
      "    accuracy                           0.71       118\n",
      "   macro avg       0.74      0.71      0.70       118\n",
      "weighted avg       0.74      0.71      0.70       118\n",
      "\n"
     ]
    },
    {
     "name": "stderr",
     "output_type": "stream",
     "text": [
      "D:\\Anaconda\\lib\\site-packages\\sklearn\\utils\\validation.py:63: DataConversionWarning: A column-vector y was passed when a 1d array was expected. Please change the shape of y to (n_samples, ), for example using ravel().\n",
      "  return f(*args, **kwargs)\n"
     ]
    }
   ],
   "source": [
    "#predection en utilisant la librairie sklearn \n",
    "model = LogisticRegression()\n",
    "y_pred = model.fit(X2_norm,y).predict(X2_norm)\n",
    "\n",
    "print('Result 01 :\\n')\n",
    "print(classification_report(y, y_pred))\n",
    "\n",
    "print(\"======================================================================================\")\n",
    "\n",
    "#predection en utilisant notre modèle\n",
    "y_pred = predict(new_theta, X2_norm)\n",
    "print('Result 02 :\\n')\n",
    "print(classification_report(y, y_pred))"
   ]
  },
  {
   "cell_type": "markdown",
   "metadata": {},
   "source": [
    "# Renforcement d'apprentissage\n",
    "Mettre ici toute idée qui pourrait renforcer votre apprentissage"
   ]
  },
  {
   "cell_type": "markdown",
   "metadata": {},
   "source": [
    "-faire varier lambda pour s'approcher de la meilleure valeur qui n'engendre pas un sous-apprentissage ou un sur-apprentissage."
   ]
  },
  {
   "cell_type": "markdown",
   "metadata": {},
   "source": [
    "# Consignes"
   ]
  },
  {
   "cell_type": "markdown",
   "metadata": {},
   "source": [
    "Le travail est à remettre par groupe de 4 au maximum [1..4].\n",
    "\n",
    "Le délai est le vendredi 01 Avril 2022 à 22h\n"
   ]
  },
  {
   "cell_type": "markdown",
   "metadata": {},
   "source": [
    "# bonne chance"
   ]
  }
 ],
 "metadata": {
  "kernelspec": {
   "display_name": "Python 3",
   "language": "python",
   "name": "python3"
  },
  "language_info": {
   "codemirror_mode": {
    "name": "ipython",
    "version": 3
   },
   "file_extension": ".py",
   "mimetype": "text/x-python",
   "name": "python",
   "nbconvert_exporter": "python",
   "pygments_lexer": "ipython3",
   "version": "3.8.8"
  }
 },
 "nbformat": 4,
 "nbformat_minor": 2
}
