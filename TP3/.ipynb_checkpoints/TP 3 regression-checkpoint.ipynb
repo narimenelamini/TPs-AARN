{
 "cells": [
  {
   "cell_type": "markdown",
   "metadata": {},
   "source": [
    "##                               LAMINI Narimene - GUETTAF Sarah - G4"
   ]
  },
  {
   "cell_type": "markdown",
   "metadata": {},
   "source": [
    "# TP 3 Regression linéaire\n",
    "Dans ce TP, nous aimerions prédire l'admission d'un étudiant à une specialité donnée selon ses notes dans deux matières.\n",
    "\n",
    "Pour ce faire, nous étudierons un ensemble de données avec l'admission  (y) et les notes des deux modules (X).\n",
    "\n",
    "La prédiction se fera avec l'agorithme de descente du gradient."
   ]
  },
  {
   "cell_type": "markdown",
   "metadata": {},
   "source": [
    "# Importation des librairies necessaires au travail"
   ]
  },
  {
   "cell_type": "code",
   "execution_count": 57,
   "metadata": {},
   "outputs": [],
   "source": [
    "import numpy as np\n",
    "import matplotlib.pyplot as plt\n",
    "import sklearn\n",
    "from sklearn.linear_model import LogisticRegression\n",
    "from sklearn.metrics import classification_report"
   ]
  },
  {
   "cell_type": "markdown",
   "metadata": {},
   "source": [
    "# Lecture des fichiers de données\n",
    "Pour ce TP, nous allons lire les données à partir d'un fichier csv."
   ]
  },
  {
   "cell_type": "code",
   "execution_count": 2,
   "metadata": {},
   "outputs": [
    {
     "data": {
      "text/plain": [
       "(100, 3)"
      ]
     },
     "execution_count": 2,
     "metadata": {},
     "output_type": "execute_result"
    }
   ],
   "source": [
    "# données\n",
    "data = np.genfromtxt('data.csv', delimiter=',', dtype=int)\n",
    "data.shape"
   ]
  },
  {
   "cell_type": "markdown",
   "metadata": {},
   "source": [
    "Dans ces données (data), la première colonne represente la première note, la deuxieme colonne la deuxième note et la troisième colonne represente l'admission à la specialité (1 admis 0 non admis).\n",
    "\n",
    "Chaque ligne represente un exemple de notre ensemble de données. \n",
    "\n",
    "Mettons ces données dans leus vecteurs correspondants."
   ]
  },
  {
   "cell_type": "code",
   "execution_count": 3,
   "metadata": {},
   "outputs": [],
   "source": [
    "# rajoutons l'ordonnée à l'origine theta 0\n",
    "intercept=np.ones((data.shape[0],1))\n",
    "X=np.column_stack((intercept,data[:,0:2]))\n",
    "y = data[:, 2];"
   ]
  },
  {
   "cell_type": "code",
   "execution_count": 4,
   "metadata": {},
   "outputs": [
    {
     "name": "stdout",
     "output_type": "stream",
     "text": [
      "X (100, 3)  y  (100,)\n"
     ]
    }
   ],
   "source": [
    "print('X', X.shape ,' y ', y.shape)"
   ]
  },
  {
   "cell_type": "markdown",
   "metadata": {},
   "source": [
    "# Descente du Gradient : Préparation des fonctions"
   ]
  },
  {
   "cell_type": "markdown",
   "metadata": {},
   "source": [
    "0- Fonction logistique (Sigmoid)"
   ]
  },
  {
   "cell_type": "code",
   "execution_count": 34,
   "metadata": {},
   "outputs": [],
   "source": [
    "def sigmoid(z):\n",
    "    # pour une valeur donnée, cette fonction calculera sa sigmoid\n",
    "    return 1 / (1 + np.exp(-z))\n"
   ]
  },
  {
   "cell_type": "markdown",
   "metadata": {},
   "source": [
    "1- Calcul du coût\n",
    "\n",
    "Cette fonction servira à calculer le cout $J(\\theta_0,\\theta_1)$\n",
    "\n",
    "Elle prendra l'ensemble de données d'apprentissage en entrée ainsi que les paramètres définis initialement"
   ]
  },
  {
   "cell_type": "code",
   "execution_count": 33,
   "metadata": {},
   "outputs": [],
   "source": [
    "def computeCost(X, y, theta):\n",
    "    \n",
    "    z = np.dot(X,theta)\n",
    "    first = y.T.dot(np.log(sigmoid(z)))\n",
    "    second = ((1-y).T).dot(np.log(1-sigmoid(z)))\n",
    "    cost = -((first + second))/len(y) \n",
    " \n",
    "    return  cost\n"
   ]
  },
  {
   "cell_type": "markdown",
   "metadata": {},
   "source": [
    "2- Fonction de la descente du gradient\n",
    "\n",
    "Cette fonction mettra à jour les paramètres $\\theta_0,\\theta_1$ jusqu'à convergence: atteinte du nombre d'itérations max, ou dérivée assez petite."
   ]
  },
  {
   "cell_type": "code",
   "execution_count": 36,
   "metadata": {},
   "outputs": [],
   "source": [
    "def gradientDescent(X, y, theta, alpha,iterations):\n",
    "   \n",
    "    length = len(y)\n",
    "    temp = np.zeros((iterations,1))\n",
    "    for i in range(iterations):\n",
    "        theta = theta - (alpha/length) * np.dot(X.T, np.dot(X, theta)-y.reshape((length,1)))\n",
    "        temp = computeCost(X,y,theta)\n",
    "    cost = temp\n",
    "    \n",
    "    return theta, cost"
   ]
  },
  {
   "cell_type": "markdown",
   "metadata": {},
   "source": [
    "# Descente du Gradient : Appel des fonctions"
   ]
  },
  {
   "cell_type": "markdown",
   "metadata": {},
   "source": [
    "Initialisation de $\\theta_0$ et $\\theta_1$"
   ]
  },
  {
   "cell_type": "code",
   "execution_count": 37,
   "metadata": {},
   "outputs": [
    {
     "data": {
      "text/plain": [
       "array([[0.],\n",
       "       [0.],\n",
       "       [0.]])"
      ]
     },
     "execution_count": 37,
     "metadata": {},
     "output_type": "execute_result"
    }
   ],
   "source": [
    "n=X.shape[1]\n",
    "theta = np.zeros((n, 1))\n",
    "theta\n"
   ]
  },
  {
   "cell_type": "markdown",
   "metadata": {},
   "source": [
    "Calculer le cout initial"
   ]
  },
  {
   "cell_type": "code",
   "execution_count": 40,
   "metadata": {},
   "outputs": [
    {
     "name": "stdout",
     "output_type": "stream",
     "text": [
      "Initial cost is :  [0.69314718]\n"
     ]
    }
   ],
   "source": [
    "initialCost=computeCost(X, y, theta)\n",
    "print(\"Initial cost is : \", initialCost )"
   ]
  },
  {
   "cell_type": "markdown",
   "metadata": {},
   "source": [
    "Normalisation des données"
   ]
  },
  {
   "cell_type": "code",
   "execution_count": 12,
   "metadata": {},
   "outputs": [],
   "source": [
    "y_norm=np.ones(y.shape)\n",
    "std = np.std(y)\n",
    "mu = np.mean(y)\n",
    "y_norm = np.true_divide((y- mu),std)\n",
    "\n",
    "X_norm=np.ones(X.shape)\n",
    "for i in range(1,X.shape[1]):\n",
    "    std = np.std(X[:,i])\n",
    "    mu = np.mean(X[:,i])\n",
    "    X_norm[:,i] = np.true_divide((X[:,i]- mu),std)"
   ]
  },
  {
   "cell_type": "markdown",
   "metadata": {},
   "source": [
    "Appel des la fonction de calcul du gradient"
   ]
  },
  {
   "cell_type": "code",
   "execution_count": 74,
   "metadata": {},
   "outputs": [
    {
     "name": "stdout",
     "output_type": "stream",
     "text": [
      "new theta is :\n",
      " [[1.11227694e-16]\n",
      " [5.85706560e-01]\n",
      " [5.21172502e-01]]\n",
      "\n",
      "new cost is :\n",
      " [0.16446122]\n"
     ]
    }
   ],
   "source": [
    "# paramètres\n",
    "iterations = 1000;\n",
    "alpha = 0.01;\n",
    "# Appel de la fonction gradientDescent prenant les données normalisés en paramètre\n",
    "theta, cost= gradientDescent(X_norm, y_norm, theta, alpha, iterations)\n",
    "print(\"new theta is :\\n\",theta)\n",
    "print(\"\")\n",
    "print(\"new cost is :\\n\",cost)\n"
   ]
  },
  {
   "cell_type": "markdown",
   "metadata": {},
   "source": [
    "Notons que $\\theta^T  x$ est équivalent à $X  \\theta $ où $X= \\begin{pmatrix}\n",
    "..(x^{(1)})^T..\\\\\n",
    "..(x^{(2)})^T..\\\\\n",
    ".\\\\\n",
    ".\\\\\n",
    ".\\\\\n",
    "..(x^{(m)})^T..\n",
    "\\end{pmatrix} $"
   ]
  },
  {
   "cell_type": "markdown",
   "metadata": {},
   "source": [
    "# Dessin de la limite de decision (Descision Boundary)\n",
    "Dans cette partie, nous aimerions dessiner la ligne separatrice d nos données"
   ]
  },
  {
   "cell_type": "code",
   "execution_count": 68,
   "metadata": {},
   "outputs": [],
   "source": [
    "def drawLine():\n",
    "    decision_boundary= -(theta[0] + (theta[1]/100 ) *X_norm[:,1])/(theta[2]/100)\n",
    "    plt.plot(X_norm[:,1],decision_boundary, color=\"red\")\n",
    "    "
   ]
  },
  {
   "cell_type": "markdown",
   "metadata": {},
   "source": [
    "# Affichage \n",
    "Graphe representant les acceptations selon les caracteristiques"
   ]
  },
  {
   "cell_type": "code",
   "execution_count": 75,
   "metadata": {},
   "outputs": [
    {
     "data": {
      "image/png": "[encoded data removed]",
      "text/plain": [
       "<Figure size 432x288 with 1 Axes>"
      ]
     },
     "metadata": {
      "needs_background": "light"
     },
     "output_type": "display_data"
    }
   ],
   "source": [
    "plt.scatter(X_norm[np.where(y==1),1],X_norm[np.where(y==1),2], label=\"Admis\",marker ='o')\n",
    "plt.scatter(X_norm[np.where(y==0),1],X_norm[np.where(y==0),2], label=\"Ajourné\",marker ='x')\n",
    "\n",
    "plt.xlabel('Matière 1')\n",
    "plt.ylabel('Matière 2') \n",
    "drawLine()"
   ]
  },
  {
   "cell_type": "markdown",
   "metadata": {},
   "source": [
    "Traçage du coût en fonction de theta0 , theta1 et theta 2"
   ]
  },
  {
   "cell_type": "code",
   "execution_count": 76,
   "metadata": {},
   "outputs": [
    {
     "data": {
      "image/png": "[encoded data removed]",
      "text/plain": [
       "<Figure size 432x288 with 1 Axes>"
      ]
     },
     "metadata": {
      "needs_background": "light"
     },
     "output_type": "display_data"
    }
   ],
   "source": [
    "plt.plot(range(iterations), cost_histo_norm, label= 'Le cout après normalisation', color = \"green\")\n",
    "plt.title('Le cout après normalisation')\n",
    "plt.show()"
   ]
  },
  {
   "cell_type": "markdown",
   "metadata": {},
   "source": [
    "Prédire des valeurs de y"
   ]
  },
  {
   "cell_type": "code",
   "execution_count": 56,
   "metadata": {},
   "outputs": [
    {
     "name": "stdout",
     "output_type": "stream",
     "text": [
      "L'étudiant est ['Admis']\n"
     ]
    }
   ],
   "source": [
    "# Predire pour des notes note1= 9 et note2=17\n",
    "\n",
    "#normalisation\n",
    "std1 = np.std(X[:,1])\n",
    "mu1 = np.mean(X[:,1])\n",
    "std2 = np.std(X[:,2])\n",
    "mu2 = np.mean(X[:,2])\n",
    "std3 = np.std(y)\n",
    "mu3 = np.mean(y)\n",
    "x1_norm =(9- mu1)/std1\n",
    "x2_norm =(17- mu2)/std2\n",
    "#prédiction\n",
    "predict_norm = np.matmul([1, x1_norm,x2_norm],theta_norm);\n",
    "predict = ['Admis'  if (predict1_norm*std3)+mu3 > 0.5 else 'Ajourné']\n",
    "print(\"L'étudiant est\",predict)\n"
   ]
  },
  {
   "cell_type": "markdown",
   "metadata": {},
   "source": [
    "# Vérification de l'implementation\n",
    "Comparer vos algorithmes à ceux de scikitlearn"
   ]
  },
  {
   "cell_type": "code",
   "execution_count": 62,
   "metadata": {},
   "outputs": [
    {
     "name": "stdout",
     "output_type": "stream",
     "text": [
      "Result 01 :\n",
      "\n",
      "              precision    recall  f1-score   support\n",
      "\n",
      "           0       0.89      0.85      0.87        40\n",
      "           1       0.90      0.93      0.92        60\n",
      "\n",
      "    accuracy                           0.90       100\n",
      "   macro avg       0.90      0.89      0.89       100\n",
      "weighted avg       0.90      0.90      0.90       100\n",
      "\n",
      "======================================================================================\n",
      "Result 02 :\n",
      "\n",
      "              precision    recall  f1-score   support\n",
      "\n",
      "           0       0.89      0.85      0.87        40\n",
      "           1       0.90      0.93      0.92        60\n",
      "\n",
      "    accuracy                           0.90       100\n",
      "   macro avg       0.90      0.89      0.89       100\n",
      "weighted avg       0.90      0.90      0.90       100\n",
      "\n"
     ]
    }
   ],
   "source": [
    "#predection en utilisant la librairie sklearn \n",
    "model = LogisticRegression()\n",
    "y_pred = model.fit(X_norm,y).predict(X_norm)\n",
    "\n",
    "print('Result 01 :\\n')\n",
    "print(classification_report(y, y_pred))\n",
    "\n",
    "print(\"======================================================================================\")\n",
    "\n",
    "#predection en utilisant notre modèle\n",
    "y_pred = np.dot(X_norm, theta)\n",
    "predicted = [1  if (i*std3)+mu3 > 0.5 else 0 for i in y_pred]\n",
    "print('Result 02 :\\n')\n",
    "print(classification_report(y, predicted))\n",
    "\n"
   ]
  },
  {
   "cell_type": "markdown",
   "metadata": {},
   "source": [
    "### Analyse des résultats\n",
    "- Le premier graphe represente les acceptations selon les caracteristiques. après avoir bien conçu notre modèle d'apprentissage en calculant théta0, théta1 et théta2, on a réussi à déssiner la ligne qui sépare les données de la classe 1 (Admis) et de la classe 2 (Ajourné). \n",
    "- Le 2 ème graphe montre la courbe du coût en fonction de theta0,theta1 et théta 2, on voit bien que cette dernière commence à se stabiliser avec un nombre d'itérations = 400 et un cout minimal égale à 0.16446122. Donc 400 itérations suffisent pour avoir le cout minimal. \n",
    "- Les statistiques obtenus par le modèle prédéfinie LogisticRegression() de sklearn sont identiques à ceux otenus par notre modèle, Ce qui confirme l'effecacité de ce dernier pour classer de nouvelles données."
   ]
  },
  {
   "cell_type": "markdown",
   "metadata": {},
   "source": [
    "# Renforcement d'apprentissage\n",
    "Mettre ici toute idée qui pourrait renforcer votre apprentissage"
   ]
  },
  {
   "cell_type": "markdown",
   "metadata": {},
   "source": [
    "- Trouver le nombre d'itérations auquel le cout se stabilise et le fixer comme la valeur maximale d'itérations\n",
    "- Nettoyage du dataset avant de concevoir le modèl (data cleaning)\n",
    "- Dévision des données en données d'entrainement et données de test\n",
    "- Selection des caractéristiques fortement reliées avec la sortie ( Features selection) dans le cas ou on a plusieurs caractéristiques."
   ]
  },
  {
   "cell_type": "markdown",
   "metadata": {},
   "source": [
    "# Consignes"
   ]
  },
  {
   "cell_type": "markdown",
   "metadata": {},
   "source": [
    "Le travail est à remettre par groupe de 4 au maximum [1..4].\n",
    "\n",
    "Le délai est le vendredi 25 Mars 2022 à 22h\n"
   ]
  },
  {
   "cell_type": "markdown",
   "metadata": {},
   "source": [
    "# Bonne chance"
   ]
  }
 ],
 "metadata": {
  "kernelspec": {
   "display_name": "Python 3",
   "language": "python",
   "name": "python3"
  },
  "language_info": {
   "codemirror_mode": {
    "name": "ipython",
    "version": 3
   },
   "file_extension": ".py",
   "mimetype": "text/x-python",
   "name": "python",
   "nbconvert_exporter": "python",
   "pygments_lexer": "ipython3",
   "version": "3.8.8"
  }
 },
 "nbformat": 4,
 "nbformat_minor": 2
}
